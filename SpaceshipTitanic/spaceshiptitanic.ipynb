{
 "cells": [
  {
   "cell_type": "code",
   "execution_count": 1,
   "metadata": {},
   "outputs": [],
   "source": [
    "import numpy as np\n",
    "from matplotlib import pyplot as plt\n",
    "import pandas as pd\n",
    "import ml\n",
    "from pandas.api.types import is_string_dtype\n",
    "from pandas.api.types import is_numeric_dtype"
   ]
  },
  {
   "attachments": {},
   "cell_type": "markdown",
   "metadata": {},
   "source": [
    "Drop cols, get rid of NaN (1-replace, 2-drop), convert objects to numbers"
   ]
  },
  {
   "cell_type": "code",
   "execution_count": null,
   "metadata": {},
   "outputs": [],
   "source": [
    "df = pd.read_csv(\"train.csv\", sep=\",\")\n",
    "dftest = pd.read_csv(\"test.csv\", sep=\",\")\n",
    "\n",
    "df.drop(['Name', 'Cabin'], axis=1, inplace=True)\n",
    "dftest.drop(['Name', 'Cabin'], axis=1, inplace=True)\n",
    "\n",
    "for i in range(df.shape[1]-1):\n",
    "    s = df.iloc[:, i]\n",
    "    stest = dftest.iloc[:, i]\n",
    "    if is_numeric_dtype(s):       \n",
    "        s.fillna(s.mean(), inplace=True)\n",
    "        stest.fillna(0, inplace=True)\n",
    "\n",
    "df.dropna(axis=0, inplace=True)\n",
    "\n",
    "tofact = ['HomePlanet', 'CryoSleep', 'Destination', 'VIP', 'Transported']\n",
    "\n",
    "for name in tofact:\n",
    "    df[name] = df[name].factorize()[0]\n",
    "    if name != 'Transported':\n",
    "        dftest[name] = dftest[name].factorize()[0]\n",
    "    \n",
    "dftest"
   ]
  },
  {
   "cell_type": "markdown",
   "metadata": {},
   "source": [
    "Get non-discrete data"
   ]
  },
  {
   "cell_type": "code",
   "execution_count": null,
   "metadata": {},
   "outputs": [],
   "source": [
    "tempf = pd.DataFrame(df.loc[:, 'RoomService':'Transported'])\n",
    "tempf"
   ]
  },
  {
   "cell_type": "markdown",
   "metadata": {},
   "source": [
    "Show correlation"
   ]
  },
  {
   "cell_type": "code",
   "execution_count": null,
   "metadata": {},
   "outputs": [],
   "source": [
    "for name in ['RoomService', 'FoodCourt', 'ShoppingMall', 'Spa', 'VRDeck']:\n",
    "    x = []\n",
    "    y = []\n",
    "    for low in np.arange(0, tempf[name].max()+tempf[name].mean(), tempf[name].mean()*20):\n",
    "        high = low+tempf[name].mean()\n",
    "        x.append((high+low)/2)\n",
    "        y.append(tempf[(tempf[name] >= low) & \n",
    "                    (tempf[name] < high) & \n",
    "                    (tempf['Transported'] == True)].count()[0])\n",
    "        plt.plot(x,y)\n",
    "\n",
    "plt.show()"
   ]
  },
  {
   "cell_type": "markdown",
   "metadata": {},
   "source": [
    "Separate to test and train"
   ]
  },
  {
   "cell_type": "code",
   "execution_count": null,
   "metadata": {},
   "outputs": [],
   "source": [
    "df = df.sample(frac=1)\n",
    "x_train = df.iloc[0 : int(df.shape[0]*0.8)]\n",
    "y_train = x_train.loc[:, 'Transported']\n",
    "x_test = df.iloc[int(df.shape[0]*0.8) : df.shape[0]]\n",
    "y_test = x_test.loc[:, 'Transported']\n",
    "\n",
    "y_train = y_train.astype(float)\n",
    "y_test = y_test.astype(float)"
   ]
  },
  {
   "cell_type": "markdown",
   "metadata": {},
   "source": [
    "Make Neural Network"
   ]
  },
  {
   "cell_type": "code",
   "execution_count": null,
   "metadata": {},
   "outputs": [],
   "source": [
    "nets = []\n",
    "for i in range(10):\n",
    "    nets.append(ml.NeuralNet([ml.Dense(x_train.shape[1]-2, \n",
    "                                        activation=ml.Sigmoid(), \n",
    "                                        weight_init=\"glorot\", \n",
    "                                        seed=np.random.randint(10000,100000), dropout=1),\n",
    "\n",
    "                                ml.Dense(1, activation=ml.Sigmoid(), \n",
    "                                            weight_init=\"glorot\", \n",
    "                                            dropout=1.0, \n",
    "                                            seed=np.random.randint(0,10000))],\n",
    "                                            \n",
    "                                loss=ml.MeanSquaredError()))\n",
    "\n",
    "optimizer = ml.SGDMomentum(0.0065, 0.0005, 1, \"exp\")\n",
    "\n",
    "for i, net in enumerate(nets):\n",
    "    trainer = ml.Trainer(net, optimizer)\n",
    "    trainer.train(x_train.iloc[:, 1:x_train.shape[1]-1].values,\n",
    "                            y_train.values.reshape(y_train.values.shape[0], 1),\n",
    "                            x_test.iloc[:, 1:x_test.shape[1]-1].values,\n",
    "                            y_test.values.reshape(y_test.values.shape[0], 1),\n",
    "                            10, (i+1)*10, 1)\n",
    "            \n",
    "    print(trainer._best_loss)\n",
    "\n"
   ]
  },
  {
   "cell_type": "markdown",
   "metadata": {},
   "source": [
    "Save predictions"
   ]
  },
  {
   "cell_type": "code",
   "execution_count": null,
   "metadata": {},
   "outputs": [],
   "source": [
    "res = pd.DataFrame()\n",
    "for i, net in enumerate(nets):    \n",
    "    res[i]= net.forward(dftest.iloc[:, 1:]).squeeze()\n",
    "\n",
    "res = res.apply(lambda x: x > x.mean())\n",
    "\n",
    "res2 = pd.DataFrame()\n",
    "res2['PassengerId'] = dftest.PassengerId\n",
    "s = []\n",
    "for i in range(res.shape[0]):\n",
    "    s.append(res.iloc[i].describe()['top'])\n",
    "\n",
    "s = pd.Series(s)\n",
    "res2['Transported'] = s\n",
    "\n",
    "\n",
    "res2.to_csv(\"submission.csv\", index=False)"
   ]
  }
 ],
 "metadata": {
  "interpreter": {
   "hash": "c05f0dc2e52d91362f47f5b73d41ee3035d2adda03cfac62a822030cb5583952"
  },
  "kernelspec": {
   "display_name": "Python 3.9.10 64-bit",
   "language": "python",
   "name": "python3"
  },
  "language_info": {
   "codemirror_mode": {
    "name": "ipython",
    "version": 3
   },
   "file_extension": ".py",
   "mimetype": "text/x-python",
   "name": "python",
   "nbconvert_exporter": "python",
   "pygments_lexer": "ipython3",
   "version": "3.10.9"
  },
  "orig_nbformat": 4
 },
 "nbformat": 4,
 "nbformat_minor": 2
}
